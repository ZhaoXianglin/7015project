{
 "metadata": {
  "language_info": {
   "codemirror_mode": {
    "name": "ipython",
    "version": 3
   },
   "file_extension": ".py",
   "mimetype": "text/x-python",
   "name": "python",
   "nbconvert_exporter": "python",
   "pygments_lexer": "ipython3",
   "version": "3.7.9-final"
  },
  "orig_nbformat": 2,
  "kernelspec": {
   "name": "pycharm-12485542",
   "display_name": "PyCharm (assign1)"
  }
 },
 "nbformat": 4,
 "nbformat_minor": 2,
 "cells": [
  {
   "cell_type": "code",
   "execution_count": 1,
   "metadata": {},
   "outputs": [
    {
     "output_type": "stream",
     "name": "stderr",
     "text": [
      "Using TensorFlow backend.\n",
      "Model: \"sequential_1\"\n",
      "_________________________________________________________________\n",
      "Layer (type)                 Output Shape              Param #   \n",
      "=================================================================\n",
      "conv2d_1 (Conv2D)            (None, 227, 227, 96)      34944     \n",
      "_________________________________________________________________\n",
      "max_pooling2d_1 (MaxPooling2 (None, 113, 113, 96)      0         \n",
      "_________________________________________________________________\n",
      "conv2d_2 (Conv2D)            (None, 113, 113, 256)     614656    \n",
      "_________________________________________________________________\n",
      "max_pooling2d_2 (MaxPooling2 (None, 56, 56, 256)       0         \n",
      "_________________________________________________________________\n",
      "conv2d_3 (Conv2D)            (None, 56, 56, 384)       885120    \n",
      "_________________________________________________________________\n",
      "conv2d_4 (Conv2D)            (None, 56, 56, 384)       1327488   \n",
      "_________________________________________________________________\n",
      "conv2d_5 (Conv2D)            (None, 56, 56, 256)       884992    \n",
      "_________________________________________________________________\n",
      "max_pooling2d_3 (MaxPooling2 (None, 27, 27, 256)       0         \n",
      "_________________________________________________________________\n",
      "flatten_1 (Flatten)          (None, 186624)            0         \n",
      "_________________________________________________________________\n",
      "dense_1 (Dense)              (None, 4096)              764416000 \n",
      "_________________________________________________________________\n",
      "dropout_1 (Dropout)          (None, 4096)              0         \n",
      "_________________________________________________________________\n",
      "dense_2 (Dense)              (None, 4096)              16781312  \n",
      "_________________________________________________________________\n",
      "dropout_2 (Dropout)          (None, 4096)              0         \n",
      "_________________________________________________________________\n",
      "dense_3 (Dense)              (None, 20)                81940     \n",
      "=================================================================\n",
      "Total params: 785,026,452\n",
      "Trainable params: 785,026,452\n",
      "Non-trainable params: 0\n",
      "_________________________________________________________________\n"
     ]
    }
   ],
   "source": [
    "from keras.models import Sequential\n",
    "from keras.layers import Dense, Flatten, Dropout\n",
    "from keras.layers.convolutional import Conv2D, MaxPooling2D\n",
    "from keras.utils.np_utils import to_categorical\n",
    "from keras.callbacks import ModelCheckpoint\n",
    "from load_data import load_data\n",
    "from sklearn.model_selection import train_test_split\n",
    "import numpy as np\n",
    "\n",
    "\n",
    "# 创建模型序列\n",
    "model = Sequential()\n",
    "#输入的图片为227x227， RGB通道\n",
    "#第一层卷积网络，使用96个大小为11x11的卷积核，步幅为4，激活函数使用relu\n",
    "model.add(Conv2D(96, (11, 11), strides=(1, 1), input_shape=(227, 227, 3), padding='same', activation='relu',\n",
    "                 kernel_initializer='uniform'))\n",
    "#尺寸缩小到(55x55x96)，缩小接近4倍\n",
    "\n",
    "# 3x3最大池化层\n",
    "model.add(MaxPooling2D(pool_size=(3, 3), strides=(2, 2)))\n",
    "# 尺寸变成27x27x96\n",
    "\n",
    "# 第二层使用256个5x5的卷积核，加边，激活函数为relu\n",
    "model.add(Conv2D(256, (5, 5), strides=(1, 1), padding='same', activation='relu', kernel_initializer='uniform'))\n",
    "#尺寸变为27×27×276\n",
    "\n",
    "#使用3x3池化层，步长为2\n",
    "model.add(MaxPooling2D(pool_size=(3, 3), strides=(2, 2)))\n",
    "#尺寸变成13×13\n",
    "\n",
    "# 第三层卷积，大小为3x3的卷积核使用384个\n",
    "model.add(Conv2D(384, (3, 3), strides=(1, 1), padding='same', activation='relu', kernel_initializer='uniform'))\n",
    "#尺寸变为13x13x384\n",
    "\n",
    "# 第四层卷积,同第三层\n",
    "model.add(Conv2D(384, (3, 3), strides=(1, 1), padding='same', activation='relu', kernel_initializer='uniform'))\n",
    "# 第五层卷积使用的卷积核为256个，其他同上\n",
    "model.add(Conv2D(256, (3, 3), strides=(1, 1), padding='same', activation='relu', kernel_initializer='uniform'))\n",
    "\n",
    "#执行一次最大池化\n",
    "model.add(MaxPooling2D(pool_size=(3, 3), strides=(2, 2)))\n",
    "#尺寸缩小到6×6×256 9216个元素\n",
    "\n",
    "#全连接层\n",
    "model.add(Flatten())\n",
    "model.add(Dense(4096, activation='relu'))\n",
    "model.add(Dropout(0.5))\n",
    "model.add(Dense(4096, activation='relu'))\n",
    "model.add(Dropout(0.5))\n",
    "#分类\n",
    "model.add(Dense(20, activation='softmax'))\n",
    "model.compile(loss='categorical_crossentropy', optimizer='sgd', metrics=['accuracy'])\n",
    "model.summary()\n",
    "\n",
    "\n",
    "checkpoint = ModelCheckpoint('AlexNet.hdf5', verbose = 1, monitor = 'val_accuracy', save_best_only = True)\n",
    "\n",
    "model.compile(optimizer = 'adam', loss = 'categorical_crossentropy', metrics = ['accuracy'])\n"
   ]
  },
  {
   "cell_type": "code",
   "execution_count": 2,
   "metadata": {},
   "outputs": [
    {
     "output_type": "stream",
     "name": "stdout",
     "text": [
      "[('Pikachu', 454), ('Squirtle', 410), ('Bulbasaur', 387), ('Mewtwo', 355), ('Charmander', 354), ('Psyduck', 264), ('Raichu', 174), ('Spearow', 168), ('Muk', 161), ('Aerodactyl', 152), ('Dratini', 151), ('Fearow', 143), ('Shellder', 126), ('Rapidash', 107), ('Mankey', 103), ('Ninetales', 101), ('Sandslash', 99), ('Lapras', 98), ('Pidgey', 97), ('Machamp', 88)]\n",
      "Class1:Pikachu\n",
      "Class2:Squirtle\n",
      "Class3:Bulbasaur\n",
      "Class4:Mewtwo\n",
      "Class5:Charmander\n",
      "Class6:Psyduck\n",
      "Class7:Raichu\n",
      "Class8:Spearow\n",
      "Class9:Muk\n",
      "Class10:Aerodactyl\n",
      "Class11:Dratini\n",
      "Class12:Fearow\n",
      "Class13:Shellder\n",
      "Class14:Rapidash\n",
      "Class15:Mankey\n",
      "Class16:Ninetales\n",
      "Class17:Sandslash\n",
      "Class18:Lapras\n",
      "Class19:Pidgey\n",
      "Class20:Machamp\n",
      "(3992, 227, 227, 3)\n"
     ]
    }
   ],
   "source": [
    "# 载入数据\n",
    "path = './Standard/RGB227'\n",
    "X,y = load_data(path,128,layers=3)\n",
    "X_train, X_test, y_train, y_test = train_test_split(X, y, test_size = 0.2, stratify = y, shuffle = True, random_state = 666)"
   ]
  },
  {
   "cell_type": "code",
   "execution_count": 4,
   "metadata": {},
   "outputs": [
    {
     "output_type": "stream",
     "name": "stdout",
     "text": [
      "Train on 3193 samples, validate on 799 samples\n",
      "Epoch 1/10\n",
      "  32/3193 [..............................] - ETA: 4:15:37 - loss: 3.9832 - accuracy: 0.0000e+00"
     ]
    }
   ],
   "source": [
    "model.fit(X_train, y_train, batch_size=32, epochs=10,validation_data = [X_test, y_test],callbacks = [checkpoint])\n",
    "score = model.evaluate(X_test, y_test, batch_size=32)"
   ]
  },
  {
   "cell_type": "code",
   "execution_count": null,
   "metadata": {},
   "outputs": [],
   "source": []
  }
 ]
}